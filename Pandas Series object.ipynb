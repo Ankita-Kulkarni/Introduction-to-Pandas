{
 "cells": [
  {
   "cell_type": "markdown",
   "id": "827f86e2",
   "metadata": {},
   "source": [
    "# Series Object - also called single dimensional array"
   ]
  },
  {
   "cell_type": "code",
   "execution_count": 1,
   "id": "e3602ac9",
   "metadata": {},
   "outputs": [
    {
     "name": "stdout",
     "output_type": "stream",
     "text": [
      "0    1\n",
      "1    2\n",
      "2    3\n",
      "3    4\n",
      "4    5\n",
      "dtype: int64\n"
     ]
    }
   ],
   "source": [
    "import pandas as pd\n",
    "p1 = pd.Series([1,2,3,4,5])\n",
    "print(p1)"
   ]
  },
  {
   "cell_type": "code",
   "execution_count": 2,
   "id": "1c6eaeb1",
   "metadata": {},
   "outputs": [
    {
     "data": {
      "text/plain": [
       "pandas.core.series.Series"
      ]
     },
     "execution_count": 2,
     "metadata": {},
     "output_type": "execute_result"
    }
   ],
   "source": [
    "type(p1)"
   ]
  },
  {
   "cell_type": "code",
   "execution_count": 3,
   "id": "01886bfa",
   "metadata": {},
   "outputs": [
    {
     "name": "stdout",
     "output_type": "stream",
     "text": [
      "0    10\n",
      "1    20\n",
      "2    30\n",
      "dtype: int64\n"
     ]
    }
   ],
   "source": [
    "lst=[10,20,30]\n",
    "p2=pd.Series(lst)\n",
    "print(p2)"
   ]
  },
  {
   "cell_type": "markdown",
   "id": "38865b92",
   "metadata": {},
   "source": [
    "# Changing index"
   ]
  },
  {
   "cell_type": "code",
   "execution_count": 8,
   "id": "b1aa97a5",
   "metadata": {},
   "outputs": [
    {
     "name": "stdout",
     "output_type": "stream",
     "text": [
      "0    1\n",
      "1    2\n",
      "2    3\n",
      "3    4\n",
      "4    5\n",
      "dtype: int64\n"
     ]
    }
   ],
   "source": [
    "import pandas as pd\n",
    "p1 = pd.Series([1,2,3,4,5])\n",
    "print(p1)"
   ]
  },
  {
   "cell_type": "code",
   "execution_count": 11,
   "id": "bf7e4bef",
   "metadata": {},
   "outputs": [
    {
     "name": "stdout",
     "output_type": "stream",
     "text": [
      "a    22\n",
      "b    67\n",
      "c    29\n",
      "d    78\n",
      "dtype: int64\n"
     ]
    }
   ],
   "source": [
    "p1 = pd.Series([22,67,29,78], index=['a','b','c','d'])\n",
    "print(p1)"
   ]
  },
  {
   "cell_type": "markdown",
   "id": "366a436c",
   "metadata": {},
   "source": [
    "# Creating Series object using dictionary"
   ]
  },
  {
   "cell_type": "code",
   "execution_count": 10,
   "id": "9b70cdfb",
   "metadata": {},
   "outputs": [
    {
     "name": "stdout",
     "output_type": "stream",
     "text": [
      "Series Object using dictionary\n",
      "A    1\n",
      "B    2\n",
      "C    3\n",
      "D    4\n",
      "E    5\n",
      "dtype: int64\n"
     ]
    }
   ],
   "source": [
    "import pandas as pd\n",
    "p5 = pd.Series({'A':1,'B':2,'C':3,'D':4,'E':5})\n",
    "print(\"Series Object using dictionary\")"
   ]
  },
  {
   "cell_type": "markdown",
   "id": "808df5f9",
   "metadata": {},
   "source": [
    "# Changing position of index"
   ]
  },
  {
   "cell_type": "code",
   "execution_count": 13,
   "id": "a237331b",
   "metadata": {},
   "outputs": [
    {
     "name": "stdout",
     "output_type": "stream",
     "text": [
      "Changing position of index\n",
      "b    20.0\n",
      "c    30.0\n",
      "d     NaN\n",
      "a    10.0\n",
      "dtype: float64\n"
     ]
    }
   ],
   "source": [
    "import pandas as pd\n",
    "p6 = pd.Series({'a':10,'b':20,'c':30}, index=['b','c','d','a'])\n",
    "print(\"Changing position of index\")\n",
    "print(p6)"
   ]
  },
  {
   "cell_type": "markdown",
   "id": "1530622c",
   "metadata": {},
   "source": [
    "# Exteracting individual elements"
   ]
  },
  {
   "cell_type": "code",
   "execution_count": 17,
   "id": "53483f89",
   "metadata": {},
   "outputs": [
    {
     "name": "stdout",
     "output_type": "stream",
     "text": [
      "Extracting single element\n",
      "11\n",
      "\n",
      "Extracting elements in sequence\n",
      "0    10\n",
      "1    44\n",
      "2    32\n",
      "3    28\n",
      "4    12\n",
      "dtype: int64\n",
      "\n",
      "Extracting elements from back\n",
      "5    11\n",
      "6    34\n",
      "7    66\n",
      "8    89\n",
      "dtype: int64\n"
     ]
    }
   ],
   "source": [
    "import pandas as pd\n",
    "p7 = pd.Series([10,44,32,28,12,11,34,66,89])\n",
    "print(\"Extracting single element\")\n",
    "print(p7[5])\n",
    "\n",
    "print(\"\\nExtracting elements in sequence\")\n",
    "print(p7[:5])  # 5 is exclusive \n",
    "\n",
    "print(\"\\nExtracting elements from back\")\n",
    "print(p7[-4:])"
   ]
  },
  {
   "cell_type": "markdown",
   "id": "c2969528",
   "metadata": {},
   "source": [
    "# Basic Math operation on Series object"
   ]
  },
  {
   "cell_type": "markdown",
   "id": "7b513211",
   "metadata": {},
   "source": [
    "# 1. Adding scalar values"
   ]
  },
  {
   "cell_type": "code",
   "execution_count": 18,
   "id": "3c679242",
   "metadata": {},
   "outputs": [
    {
     "name": "stdout",
     "output_type": "stream",
     "text": [
      "Adding scalar value\n",
      "0    13\n",
      "1    23\n",
      "2    33\n",
      "3    43\n",
      "4    53\n",
      "dtype: int64\n"
     ]
    }
   ],
   "source": [
    "import pandas as pd\n",
    "p1 = pd.Series([10,20,30,40,50])\n",
    "print(\"Adding scalar value\")\n",
    "print(p1+3)  #adding 3 to all values"
   ]
  },
  {
   "cell_type": "markdown",
   "id": "29983cd3",
   "metadata": {},
   "source": [
    "# Adding 2 Series objects"
   ]
  },
  {
   "cell_type": "code",
   "execution_count": 19,
   "id": "e9381828",
   "metadata": {},
   "outputs": [
    {
     "name": "stdout",
     "output_type": "stream",
     "text": [
      "Adding two Series object\n",
      "0    11\n",
      "1    22\n",
      "2    33\n",
      "3    44\n",
      "4    55\n",
      "dtype: int64\n"
     ]
    }
   ],
   "source": [
    "import pandas as pd\n",
    "p2 = pd.Series([10,20,30,40,50])\n",
    "p3 = pd.Series([1,2,3,4,5])\n",
    "print(\"Adding two Series object\")\n",
    "print(p2+p3)"
   ]
  },
  {
   "cell_type": "code",
   "execution_count": null,
   "id": "75c0a159",
   "metadata": {},
   "outputs": [],
   "source": []
  }
 ],
 "metadata": {
  "kernelspec": {
   "display_name": "Python 3",
   "language": "python",
   "name": "python3"
  },
  "language_info": {
   "codemirror_mode": {
    "name": "ipython",
    "version": 3
   },
   "file_extension": ".py",
   "mimetype": "text/x-python",
   "name": "python",
   "nbconvert_exporter": "python",
   "pygments_lexer": "ipython3",
   "version": "3.8.8"
  }
 },
 "nbformat": 4,
 "nbformat_minor": 5
}
